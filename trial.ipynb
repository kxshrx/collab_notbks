{
  "nbformat": 4,
  "nbformat_minor": 0,
  "metadata": {
    "colab": {
      "provenance": [],
      "authorship_tag": "ABX9TyM2Ih7ff0liORLW4Ju1ZpWC",
      "include_colab_link": true
    },
    "kernelspec": {
      "name": "python3",
      "display_name": "Python 3"
    },
    "language_info": {
      "name": "python"
    }
  },
  "cells": [
    {
      "cell_type": "markdown",
      "metadata": {
        "id": "view-in-github",
        "colab_type": "text"
      },
      "source": [
        "<a href=\"https://colab.research.google.com/github/kxshrx/collab_notbks/blob/main/trial.ipynb\" target=\"_parent\"><img src=\"https://colab.research.google.com/assets/colab-badge.svg\" alt=\"Open In Colab\"/></a>"
      ]
    },
    {
      "cell_type": "code",
      "execution_count": 1,
      "metadata": {
        "colab": {
          "base_uri": "https://localhost:8080/"
        },
        "id": "FrL7tQ3UGU-x",
        "outputId": "2c484e4d-8444-4c2a-f78e-637c34de6c97"
      },
      "outputs": [
        {
          "output_type": "stream",
          "name": "stdout",
          "text": [
            "Mounted at /content/drive\n",
            "Notebook created at: /content/drive/MyDrive/COLLAB/machine_learning/notebooks/new_notebook_name.ipynb\n"
          ]
        }
      ],
      "source": [
        "from google.colab import drive\n",
        "drive.mount('/content/drive')\n",
        "\n",
        "# Define the destination folder\n",
        "destination_folder = '/content/drive/MyDrive/COLLAB/machine_learning/notebooks/'\n",
        "\n",
        "# Function to create a new notebook\n",
        "def create_new_notebook(notebook_name):\n",
        "    notebook_path = destination_folder + notebook_name + '.ipynb'\n",
        "    with open(notebook_path, 'w') as f:\n",
        "        pass  # Create an empty file\n",
        "    print(f\"Notebook created at: {notebook_path}\")\n",
        "\n",
        "# Create a new notebook\n",
        "create_new_notebook('new_notebook_name')\n"
      ]
    }
  ]
}